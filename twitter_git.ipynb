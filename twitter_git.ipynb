{
 "cells": [
  {
   "cell_type": "markdown",
   "metadata": {},
   "source": [
    "## Twitter data analysis\n",
    "\n",
    "Two projects are built using Twitter API:\n",
    "1. Extracting trending hashtags and their volume based on location. ALso, visualising the appearance of trending hashtags at different locations.\n",
    "\n",
    "2. Extracting and visulaising the locations where a specific keyword or hashtag is trending, to capture the popularity or awareness of any specific thing (e.g. product, policy, agenda, technology etc)"
   ]
  },
  {
   "cell_type": "markdown",
   "metadata": {},
   "source": [
    "### I. Import libraries"
   ]
  },
  {
   "cell_type": "code",
   "execution_count": 6,
   "metadata": {},
   "outputs": [],
   "source": [
    "import tweepy"
   ]
  },
  {
   "cell_type": "code",
   "execution_count": 2,
   "metadata": {},
   "outputs": [
    {
     "name": "stdout",
     "output_type": "stream",
     "text": [
      "Requirement already satisfied: tweepy in c:\\programdata\\anaconda3\\lib\\site-packages (4.11.0)\n",
      "Requirement already satisfied: oauthlib<4,>=3.2.0 in c:\\programdata\\anaconda3\\lib\\site-packages (from tweepy) (3.2.2)\n",
      "Requirement already satisfied: requests<3,>=2.27.0 in c:\\programdata\\anaconda3\\lib\\site-packages (from tweepy) (2.28.1)\n",
      "Requirement already satisfied: requests-oauthlib<2,>=1.2.0 in c:\\programdata\\anaconda3\\lib\\site-packages (from tweepy) (1.3.1)\n",
      "Requirement already satisfied: idna<4,>=2.5 in c:\\programdata\\anaconda3\\lib\\site-packages (from requests<3,>=2.27.0->tweepy) (2.10)\n",
      "Requirement already satisfied: urllib3<1.27,>=1.21.1 in c:\\programdata\\anaconda3\\lib\\site-packages (from requests<3,>=2.27.0->tweepy) (1.25.9)\n",
      "Requirement already satisfied: charset-normalizer<3,>=2 in c:\\programdata\\anaconda3\\lib\\site-packages (from requests<3,>=2.27.0->tweepy) (2.1.1)\n",
      "Requirement already satisfied: certifi>=2017.4.17 in c:\\programdata\\anaconda3\\lib\\site-packages (from requests<3,>=2.27.0->tweepy) (2020.6.20)\n",
      "Note: you may need to restart the kernel to use updated packages.\n"
     ]
    }
   ],
   "source": [
    "pip install tweepy"
   ]
  },
  {
   "cell_type": "code",
   "execution_count": 3,
   "metadata": {},
   "outputs": [],
   "source": [
    "import pandas as pd\n",
    "import numpy as np\n",
    "from pandas import DataFrame,Series \n",
    "import matplotlib.pyplot as plt\n",
    "import seaborn as sns"
   ]
  },
  {
   "cell_type": "markdown",
   "metadata": {},
   "source": [
    "### II. Connect with twitter\n",
    "#### Input these information: \n",
    " - access_token=\"enter value here\"\n",
    " - access_token_secret=\"enter value here\"\n",
    " - api_key=\"enter value here\"\n",
    " - api_key_secret=\"enter value here\""
   ]
  },
  {
   "cell_type": "code",
   "execution_count": 4,
   "metadata": {},
   "outputs": [],
   "source": [
    "access_token=\""\n",
    "access_token_secret=\""\n",
    "api_key=\""\n",
    "api_key_secret=\"""
   ]
  },
  {
   "cell_type": "code",
   "execution_count": 7,
   "metadata": {},
   "outputs": [],
   "source": [
    "auth=tweepy.OAuthHandler(consumer_key=api_key,consumer_secret=api_key_secret)\n",
    "auth.set_access_token(access_token,access_token_secret)\n",
    "api=tweepy.API(auth)"
   ]
  },
  {
   "cell_type": "markdown",
   "metadata": {},
   "source": [
    "## *Project 1 :*\n",
    "\n",
    "### 1. Get where on earth id (woeid)"
   ]
  },
  {
   "cell_type": "code",
   "execution_count": 118,
   "metadata": {},
   "outputs": [],
   "source": [
    "woeid_csv=pd.read_csv('D:\\pyhton\\woeid\\geoplanet_places_7.10.0.csv',sep='\\t')\n",
    "woeid_country=woeid_csv[woeid_csv['PlaceType']=='Country']"
   ]
  },
  {
   "cell_type": "markdown",
   "metadata": {},
   "source": [
    "### 2. Get trending hashtags form a specific location\n",
    "       - api.get_place_trend(woeid) gives the trending tweets in JSON format\n",
    "       - Trending hashtags and number of its appearance (Volume) at a specific location were extracted\n",
    "       - Trending hashtags of India, USA, France, UK and Ausralia were extracted"
   ]
  },
  {
   "cell_type": "code",
   "execution_count": 119,
   "metadata": {},
   "outputs": [],
   "source": [
    "country_info=woeid_country[woeid_country['Name'].isin(['India','United States','France','United Kingdom','Australia'])]\n",
    "hashtags_all=DataFrame()\n",
    "for x in range(len(country_info)):\n",
    "   woeid=str(country_info.iloc[x,0])\n",
    "   country_name=str(country_info.iloc[x,2])\n",
    "   trend_result=api.get_place_trends(woeid)\n",
    "   trendlist1=[]\n",
    "   trendlist2=[]\n",
    "   for trend in trend_result[0][\"trends\"][:10]:\n",
    "        ##print(trend[\"name\"])\n",
    "        ##print(trend[\"tweet_volume\"])\n",
    "        trendlist1.append(trend[\"name\"])\n",
    "        trendlist2.append(trend[\"tweet_volume\"])\n",
    "        hashtags=DataFrame(list(zip(trendlist1,trendlist2)),columns=['hashtag','volume'])\n",
    "        hashtags.sort_values(by='volume',ascending=False,inplace=True)\n",
    "        hashtags.insert(1,'country',country_name)\n",
    "   hashtags_all=hashtags_all.append(hashtags)"
   ]
  },
  {
   "cell_type": "markdown",
   "metadata": {},
   "source": [
    "### 3. Get common hashtags"
   ]
  },
  {
   "cell_type": "code",
   "execution_count": 120,
   "metadata": {},
   "outputs": [
    {
     "data": {
      "text/html": [
       "<div>\n",
       "<style scoped>\n",
       "    .dataframe tbody tr th:only-of-type {\n",
       "        vertical-align: middle;\n",
       "    }\n",
       "\n",
       "    .dataframe tbody tr th {\n",
       "        vertical-align: top;\n",
       "    }\n",
       "\n",
       "    .dataframe thead th {\n",
       "        text-align: right;\n",
       "    }\n",
       "</style>\n",
       "<table border=\"1\" class=\"dataframe\">\n",
       "  <thead>\n",
       "    <tr style=\"text-align: right;\">\n",
       "      <th></th>\n",
       "      <th>hashtag</th>\n",
       "      <th>country</th>\n",
       "      <th>volume</th>\n",
       "    </tr>\n",
       "  </thead>\n",
       "  <tbody>\n",
       "    <tr>\n",
       "      <th>8</th>\n",
       "      <td>Drake</td>\n",
       "      <td>France</td>\n",
       "      <td>621193.0</td>\n",
       "    </tr>\n",
       "    <tr>\n",
       "      <th>7</th>\n",
       "      <td>Cancelo</td>\n",
       "      <td>India</td>\n",
       "      <td>21459.0</td>\n",
       "    </tr>\n",
       "    <tr>\n",
       "      <th>8</th>\n",
       "      <td>#MCIFUL</td>\n",
       "      <td>India</td>\n",
       "      <td>19559.0</td>\n",
       "    </tr>\n",
       "    <tr>\n",
       "      <th>5</th>\n",
       "      <td>#WWECrownJewel</td>\n",
       "      <td>United Kingdom</td>\n",
       "      <td>32416.0</td>\n",
       "    </tr>\n",
       "    <tr>\n",
       "      <th>0</th>\n",
       "      <td>Cancelo</td>\n",
       "      <td>United Kingdom</td>\n",
       "      <td>21459.0</td>\n",
       "    </tr>\n",
       "    <tr>\n",
       "      <th>4</th>\n",
       "      <td>#MCIFUL</td>\n",
       "      <td>United Kingdom</td>\n",
       "      <td>19559.0</td>\n",
       "    </tr>\n",
       "    <tr>\n",
       "      <th>4</th>\n",
       "      <td>Drake</td>\n",
       "      <td>Australia</td>\n",
       "      <td>621193.0</td>\n",
       "    </tr>\n",
       "    <tr>\n",
       "      <th>8</th>\n",
       "      <td>#WWECrownJewel</td>\n",
       "      <td>Australia</td>\n",
       "      <td>32771.0</td>\n",
       "    </tr>\n",
       "    <tr>\n",
       "      <th>2</th>\n",
       "      <td>Cancelo</td>\n",
       "      <td>Australia</td>\n",
       "      <td>21563.0</td>\n",
       "    </tr>\n",
       "    <tr>\n",
       "      <th>0</th>\n",
       "      <td>#WWECrownJewel</td>\n",
       "      <td>United States</td>\n",
       "      <td>32771.0</td>\n",
       "    </tr>\n",
       "    <tr>\n",
       "      <th>2</th>\n",
       "      <td>Cancelo</td>\n",
       "      <td>United States</td>\n",
       "      <td>21459.0</td>\n",
       "    </tr>\n",
       "  </tbody>\n",
       "</table>\n",
       "</div>"
      ],
      "text/plain": [
       "          hashtag         country    volume\n",
       "8           Drake          France  621193.0\n",
       "7         Cancelo           India   21459.0\n",
       "8         #MCIFUL           India   19559.0\n",
       "5  #WWECrownJewel  United Kingdom   32416.0\n",
       "0         Cancelo  United Kingdom   21459.0\n",
       "4         #MCIFUL  United Kingdom   19559.0\n",
       "4           Drake       Australia  621193.0\n",
       "8  #WWECrownJewel       Australia   32771.0\n",
       "2         Cancelo       Australia   21563.0\n",
       "0  #WWECrownJewel   United States   32771.0\n",
       "2         Cancelo   United States   21459.0"
      ]
     },
     "execution_count": 120,
     "metadata": {},
     "output_type": "execute_result"
    }
   ],
   "source": [
    "duplicate_hashtag=hashtags_all[hashtags_all.duplicated('hashtag',keep = False)]\n",
    "duplicate_hashtag"
   ]
  },
  {
   "cell_type": "markdown",
   "metadata": {},
   "source": [
    "### 4. Plot trending common hashtags and their corresponding volume"
   ]
  },
  {
   "cell_type": "code",
   "execution_count": 121,
   "metadata": {},
   "outputs": [
    {
     "data": {
      "image/png": "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\n",
      "text/plain": [
       "<Figure size 576x360 with 1 Axes>"
      ]
     },
     "metadata": {
      "needs_background": "light"
     },
     "output_type": "display_data"
    }
   ],
   "source": [
    "plt.figure(figsize=(8,5))\n",
    "plt.xticks(rotation=0)\n",
    "sns.barplot(data=duplicate_hashtag,x='hashtag',y='volume',hue='country')\n",
    "plt.xlabel('Hashtag')\n",
    "plt.ylabel('Volume')\n",
    "plt.legend( loc='upper right',title='Country')\n",
    "plt.show()"
   ]
  },
  {
   "cell_type": "markdown",
   "metadata": {},
   "source": [
    "## *Project 2 :*"
   ]
  },
  {
   "cell_type": "markdown",
   "metadata": {},
   "source": [
    "### 1. Get the location of the trending keyword \n",
    "       - Extract the location of tweets and the \n",
    "       - This query searches for 100 recent popular tweets that contain the input word"
   ]
  },
  {
   "cell_type": "code",
   "execution_count": 125,
   "metadata": {},
   "outputs": [
    {
     "name": "stdout",
     "output_type": "stream",
     "text": [
      "enter the keyword:cancelo\n"
     ]
    }
   ],
   "source": [
    "choice=input('enter the keyword:')\n",
    "tweets=tweepy.Cursor(api.search_tweets,q=choice,result_type='popular').items(100)\n",
    "tweet_loc=[]\n",
    "totaltweets=[]\n",
    "for tweet in tweets:\n",
    "    tweet_loc.append(tweet.user.location)\n",
    "tweet_loc_df=DataFrame((tweet_loc),columns=['location'])\n"
   ]
  },
  {
   "cell_type": "markdown",
   "metadata": {},
   "source": [
    "### 2. Get the locations in a dataframe and visualise using bar plot\n",
    "       - Replace rows with no value\n",
    "       - Group the rows of dataframe based on the number of times a keyword has appeared at a specific location \n",
    "       - Sort the dataframe based on the tweet count (highest to lowest) and plot top 30 locations using seaborn"
   ]
  },
  {
   "cell_type": "code",
   "execution_count": 126,
   "metadata": {},
   "outputs": [
    {
     "data": {
      "text/html": [
       "<div>\n",
       "<style scoped>\n",
       "    .dataframe tbody tr th:only-of-type {\n",
       "        vertical-align: middle;\n",
       "    }\n",
       "\n",
       "    .dataframe tbody tr th {\n",
       "        vertical-align: top;\n",
       "    }\n",
       "\n",
       "    .dataframe thead th {\n",
       "        text-align: right;\n",
       "    }\n",
       "</style>\n",
       "<table border=\"1\" class=\"dataframe\">\n",
       "  <thead>\n",
       "    <tr style=\"text-align: right;\">\n",
       "      <th></th>\n",
       "      <th>location</th>\n",
       "    </tr>\n",
       "  </thead>\n",
       "  <tbody>\n",
       "    <tr>\n",
       "      <th>0</th>\n",
       "      <td>Etihad Stadium</td>\n",
       "    </tr>\n",
       "    <tr>\n",
       "      <th>5</th>\n",
       "      <td>IG: City_Xtra</td>\n",
       "    </tr>\n",
       "    <tr>\n",
       "      <th>7</th>\n",
       "      <td>Etihad Stadium</td>\n",
       "    </tr>\n",
       "    <tr>\n",
       "      <th>8</th>\n",
       "      <td>IG: City_Xtra</td>\n",
       "    </tr>\n",
       "    <tr>\n",
       "      <th>9</th>\n",
       "      <td>Barcelona, España</td>\n",
       "    </tr>\n",
       "    <tr>\n",
       "      <th>10</th>\n",
       "      <td>ethan@sidemen.com</td>\n",
       "    </tr>\n",
       "    <tr>\n",
       "      <th>11</th>\n",
       "      <td>Craven Cottage</td>\n",
       "    </tr>\n",
       "    <tr>\n",
       "      <th>12</th>\n",
       "      <td>Cartagena/Colombia</td>\n",
       "    </tr>\n",
       "    <tr>\n",
       "      <th>13</th>\n",
       "      <td>London</td>\n",
       "    </tr>\n",
       "    <tr>\n",
       "      <th>15</th>\n",
       "      <td>Colombia</td>\n",
       "    </tr>\n",
       "    <tr>\n",
       "      <th>16</th>\n",
       "      <td>Av. México Coyoacán 40</td>\n",
       "    </tr>\n",
       "    <tr>\n",
       "      <th>17</th>\n",
       "      <td>Milano, Italia</td>\n",
       "    </tr>\n",
       "    <tr>\n",
       "      <th>18</th>\n",
       "      <td>Etihad Stadium</td>\n",
       "    </tr>\n",
       "    <tr>\n",
       "      <th>19</th>\n",
       "      <td>Etihad Stadium</td>\n",
       "    </tr>\n",
       "    <tr>\n",
       "      <th>20</th>\n",
       "      <td>IG: City_Xtra</td>\n",
       "    </tr>\n",
       "    <tr>\n",
       "      <th>21</th>\n",
       "      <td>Manchester, England</td>\n",
       "    </tr>\n",
       "    <tr>\n",
       "      <th>22</th>\n",
       "      <td>Bogotá</td>\n",
       "    </tr>\n",
       "    <tr>\n",
       "      <th>24</th>\n",
       "      <td>Portugal</td>\n",
       "    </tr>\n",
       "    <tr>\n",
       "      <th>25</th>\n",
       "      <td>Etihad Stadium</td>\n",
       "    </tr>\n",
       "    <tr>\n",
       "      <th>27</th>\n",
       "      <td>IG: City_Xtra</td>\n",
       "    </tr>\n",
       "    <tr>\n",
       "      <th>28</th>\n",
       "      <td>Guayaquil, Ecuador</td>\n",
       "    </tr>\n",
       "    <tr>\n",
       "      <th>29</th>\n",
       "      <td>Manchester, England</td>\n",
       "    </tr>\n",
       "  </tbody>\n",
       "</table>\n",
       "</div>"
      ],
      "text/plain": [
       "                  location\n",
       "0           Etihad Stadium\n",
       "5            IG: City_Xtra\n",
       "7           Etihad Stadium\n",
       "8            IG: City_Xtra\n",
       "9        Barcelona, España\n",
       "10       ethan@sidemen.com\n",
       "11          Craven Cottage\n",
       "12      Cartagena/Colombia\n",
       "13                  London\n",
       "15                Colombia\n",
       "16  Av. México Coyoacán 40\n",
       "17          Milano, Italia\n",
       "18          Etihad Stadium\n",
       "19          Etihad Stadium\n",
       "20           IG: City_Xtra\n",
       "21     Manchester, England\n",
       "22                  Bogotá\n",
       "24                Portugal\n",
       "25          Etihad Stadium\n",
       "27           IG: City_Xtra\n",
       "28      Guayaquil, Ecuador\n",
       "29     Manchester, England"
      ]
     },
     "execution_count": 126,
     "metadata": {},
     "output_type": "execute_result"
    }
   ],
   "source": [
    "tweet_loc_df['location'].replace('', np.nan, inplace=True)\n",
    "tweet_loc_df.dropna()"
   ]
  },
  {
   "cell_type": "code",
   "execution_count": 127,
   "metadata": {},
   "outputs": [],
   "source": [
    "tweet_loc_df['Counts'] = tweet_loc_df.groupby('location')['location'].transform('count')\n",
    "tweet_loc_vol=tweet_loc_df.sort_values(by='Counts', ascending=False).iloc[0:30,:]\n",
    "tweet_loc_trend=tweet_loc_vol.drop_duplicates()"
   ]
  },
  {
   "cell_type": "code",
   "execution_count": 128,
   "metadata": {},
   "outputs": [
    {
     "data": {
      "image/png": "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\n",
      "text/plain": [
       "<Figure size 576x288 with 1 Axes>"
      ]
     },
     "metadata": {
      "needs_background": "light"
     },
     "output_type": "display_data"
    }
   ],
   "source": [
    "plt.figure(figsize=(8,4))\n",
    "plt.xticks(rotation=90)\n",
    "sns.barplot(x='location',y='Counts',data=tweet_loc_trend,palette ='plasma')\n",
    "plt.xlabel('Location')\n",
    "plt.ylabel('Counts')\n",
    "plt.show()"
   ]
  },
  {
   "cell_type": "code",
   "execution_count": null,
   "metadata": {},
   "outputs": [],
   "source": []
  }
 ],
 "metadata": {
  "kernelspec": {
   "display_name": "Python 3",
   "language": "python",
   "name": "python3"
  },
  "language_info": {
   "codemirror_mode": {
    "name": "ipython",
    "version": 3
   },
   "file_extension": ".py",
   "mimetype": "text/x-python",
   "name": "python",
   "nbconvert_exporter": "python",
   "pygments_lexer": "ipython3",
   "version": "3.8.3"
  }
 },
 "nbformat": 4,
 "nbformat_minor": 4
}
